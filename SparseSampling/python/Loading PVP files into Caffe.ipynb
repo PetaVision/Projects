{
 "cells": [
  {
   "cell_type": "code",
   "execution_count": 28,
   "metadata": {
    "collapsed": false
   },
   "outputs": [],
   "source": [
    "import os\n",
    "import sys\n",
    "import numpy as np\n",
    "import matplotlib.pyplot as plt\n",
    "import lmdb\n",
    "\n",
    "# Add paths\n",
    "sys.path.insert(0, os.path.abspath('../../../python/')) # PetaVision\n",
    "sys.path.insert(0, os.path.abspath(os.environ['HOME']+'/Work/Libraries/caffe/python/')) # Caffe\n",
    "\n",
    "# Import aux libraries\n",
    "from pvtools import *\n",
    "import caffe"
   ]
  },
  {
   "cell_type": "code",
   "execution_count": 32,
   "metadata": {
    "collapsed": false
   },
   "outputs": [
    {
     "name": "stdout",
     "output_type": "stream",
     "text": [
      "File /Users/dpaiton/Work/LANL/Data/S1.pvp: frame 1 of 10\n",
      "File /Users/dpaiton/Work/LANL/Data/S1.pvp: frame 2 of 10\n",
      "File /Users/dpaiton/Work/LANL/Data/S1.pvp: frame 3 of 10\n",
      "File /Users/dpaiton/Work/LANL/Data/S1.pvp: frame 4 of 10\n",
      "File /Users/dpaiton/Work/LANL/Data/S1.pvp: frame 5 of 10\n",
      "File /Users/dpaiton/Work/LANL/Data/S1.pvp: frame 6 of 10\n",
      "File /Users/dpaiton/Work/LANL/Data/S1.pvp: frame 7 of 10\n",
      "File /Users/dpaiton/Work/LANL/Data/S1.pvp: frame 8 of 10\n",
      "File /Users/dpaiton/Work/LANL/Data/S1.pvp: frame 9 of 10\n"
     ]
    }
   ],
   "source": [
    "#set up path to pvp file\n",
    "pvp_file_path = os.environ['HOME']+'/Work/LANL/Data/S1.pvp'\n",
    "\n",
    "pvData = readpvpfile(pvp_file_path, 1, 10, 0, 1)"
   ]
  },
  {
   "cell_type": "code",
   "execution_count": 74,
   "metadata": {
    "collapsed": false
   },
   "outputs": [],
   "source": [
    "#So first column are indices, second activities. Indices are rolled out, ticks f,x,y, fastest to slowest\n",
    "#dimensions are (32/4) x (32/4) x 192\n",
    "#that's 192 features, cifar 32x32 dimensions divided by stride of 4\n",
    "#the matrix is organized (num_non_zero_elements, 2) where the second index gives [dense_idx, activity]\n",
    "\n",
    "\n",
    "#below code fails because python only supports 2-D sparse matrices.\n",
    "#So I can run this code per frame and recompile it into a 3-D dense matrix, or I can find a better solution...\n",
    "from scipy.sparse import coo_matrix\n",
    "\n",
    "numIm = len(pvData)\n",
    "numF = pvData.header['nf']\n",
    "numY = pvData.header['ny']\n",
    "numX = pvData.header['nx']\n",
    "\n",
    "out_mat = np.zeros((numIm, numF, numY, numX))\n",
    "\n",
    "for frame_idx in range(numIm):\n",
    "    frame_data = np.array(pvData[frame_idx].values)\n",
    "\n",
    "    i = np.zeros(frame_data.shape[0])\n",
    "    j = np.zeros(frame_data.shape[0])\n",
    "    for idx in range(px_shape.shape[0]):\n",
    "        i[idx] = frame_data[idx,0].astype('int') / numY # row\n",
    "        j[idx] = frame_data[idx,0].astype('int') % numY # col\n",
    "\n",
    "    out_mat[frame_idx,feat_idx,:,:] = np.array(coo_matrix((sub_mat[:,1], (i,j))).todense()).shape\n"
   ]
  },
  {
   "cell_type": "code",
   "execution_count": 79,
   "metadata": {
    "collapsed": false,
    "scrolled": true
   },
   "outputs": [
    {
     "data": {
      "text/plain": [
       "{'datasize': 8,\n",
       " 'datatype': 4,\n",
       " 'filetype': 6,\n",
       " 'headersize': 80,\n",
       " 'kx0': 0,\n",
       " 'ky0': 0,\n",
       " 'nbands': 150000,\n",
       " 'nbatch': 1,\n",
       " 'nf': 192,\n",
       " 'numparams': 20,\n",
       " 'numrecords': 1,\n",
       " 'nx': 8,\n",
       " 'nxGlobal': 8,\n",
       " 'nxprocs': 1,\n",
       " 'ny': 8,\n",
       " 'nyGlobal': 8,\n",
       " 'nyprocs': 1,\n",
       " 'recordsize': 2371,\n",
       " 'time': 400.0}"
      ]
     },
     "execution_count": 79,
     "metadata": {},
     "output_type": "execute_result"
    }
   ],
   "source": [
    "pvData.header\n"
   ]
  }
 ],
 "metadata": {
  "kernelspec": {
   "display_name": "Python 2",
   "language": "python",
   "name": "python2"
  },
  "language_info": {
   "codemirror_mode": {
    "name": "ipython",
    "version": 2
   },
   "file_extension": ".py",
   "mimetype": "text/x-python",
   "name": "python",
   "nbconvert_exporter": "python",
   "pygments_lexer": "ipython2",
   "version": "2.7.10"
  }
 },
 "nbformat": 4,
 "nbformat_minor": 0
}
